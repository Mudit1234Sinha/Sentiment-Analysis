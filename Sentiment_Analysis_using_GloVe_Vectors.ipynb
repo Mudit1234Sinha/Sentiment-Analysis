{
  "nbformat": 4,
  "nbformat_minor": 0,
  "metadata": {
    "kernelspec": {
      "display_name": "Python 3",
      "language": "python",
      "name": "python3"
    },
    "language_info": {
      "codemirror_mode": {
        "name": "ipython",
        "version": 3
      },
      "file_extension": ".py",
      "mimetype": "text/x-python",
      "name": "python",
      "nbconvert_exporter": "python",
      "pygments_lexer": "ipython3",
      "version": "3.6.8"
    },
    "colab": {
      "name": "Sentiment Analysis using GloVe Vectors.ipynb",
      "provenance": [],
      "collapsed_sections": [],
      "include_colab_link": true
    }
  },
  "cells": [
    {
      "cell_type": "markdown",
      "metadata": {
        "id": "view-in-github",
        "colab_type": "text"
      },
      "source": [
        "<a href=\"https://colab.research.google.com/github/Mudit1234Sinha/Sentiment-Analysis/blob/main/Sentiment_Analysis_using_GloVe_Vectors.ipynb\" target=\"_parent\"><img src=\"https://colab.research.google.com/assets/colab-badge.svg\" alt=\"Open In Colab\"/></a>"
      ]
    },
    {
      "cell_type": "code",
      "metadata": {
        "id": "CVAIpfO0MFK7"
      },
      "source": [
        "import pandas as pd\n",
        "import numpy as np\n",
        "import random\n",
        "\n",
        "from tensorflow.keras.models import Sequential\n",
        "from tensorflow.keras.layers import Dense, Dropout, Flatten\n",
        "from tensorflow.keras.layers import Conv1D, GlobalMaxPooling1D, Embedding\n",
        "from tensorflow.keras.optimizers import Adam\n",
        "from tensorflow.keras.preprocessing.sequence import pad_sequences\n",
        "from tensorflow.keras.preprocessing.text import Tokenizer\n",
        "\n",
        "import matplotlib.pyplot as plt\n",
        "\n",
        "from sklearn.model_selection import train_test_split"
      ],
      "execution_count": null,
      "outputs": []
    },
    {
      "cell_type": "code",
      "metadata": {
        "id": "WFyrqXX4M5ek",
        "colab": {
          "base_uri": "https://localhost:8080/"
        },
        "outputId": "dbc5e429-51c7-472e-b5d1-f77f9891b470"
      },
      "source": [
        "# Download data from https://archive.ics.uci.edu/ml/datasets/Sentiment+Labelled+Sentences\n",
        "\n",
        "!wget --quiet \"https://archive.ics.uci.edu/ml/machine-learning-databases/00331/sentiment%20labelled%20sentences.zip\"\n",
        "!unzip -q \"sentiment labelled sentences\"\n",
        "!mv \"sentiment labelled sentences\" data\n",
        "!ls -l data"
      ],
      "execution_count": null,
      "outputs": [
        {
          "output_type": "stream",
          "name": "stdout",
          "text": [
            "total 208\n",
            "-rw-r--r-- 1 root root 58226 Jul  5  2016 amazon_cells_labelled.txt\n",
            "-rw-r--r-- 1 root root 85285 Feb 15  2015 imdb_labelled.txt\n",
            "-rw-r--r-- 1 root root  1070 May 31  2015 readme.txt\n",
            "-rw-r--r-- 1 root root 61320 Jul  5  2016 yelp_labelled.txt\n"
          ]
        }
      ]
    },
    {
      "cell_type": "code",
      "metadata": {
        "id": "je5Lkv_aMFLA",
        "colab": {
          "base_uri": "https://localhost:8080/",
          "height": 376
        },
        "outputId": "a96abf83-bfe5-4c0b-9649-66dce70da7fe"
      },
      "source": [
        "files = ['data/yelp_labelled.txt', 'data/amazon_cells_labelled.txt', 'data/imdb_labelled.txt']\n",
        "\n",
        "df_list = []\n",
        "for file in files:\n",
        "    df = pd.read_csv(file, names=['comment', 'sentiment'], sep='\\t')\n",
        "    df_list.append(df)\n",
        "\n",
        "trainingData = pd.concat(df_list)\n",
        "\n",
        "print('Number of rows: %d' % len(trainingData))\n",
        "\n",
        "trainingData.head(10)"
      ],
      "execution_count": null,
      "outputs": [
        {
          "output_type": "stream",
          "name": "stdout",
          "text": [
            "Number of rows: 2748\n"
          ]
        },
        {
          "output_type": "execute_result",
          "data": {
            "text/html": [
              "<div>\n",
              "<style scoped>\n",
              "    .dataframe tbody tr th:only-of-type {\n",
              "        vertical-align: middle;\n",
              "    }\n",
              "\n",
              "    .dataframe tbody tr th {\n",
              "        vertical-align: top;\n",
              "    }\n",
              "\n",
              "    .dataframe thead th {\n",
              "        text-align: right;\n",
              "    }\n",
              "</style>\n",
              "<table border=\"1\" class=\"dataframe\">\n",
              "  <thead>\n",
              "    <tr style=\"text-align: right;\">\n",
              "      <th></th>\n",
              "      <th>comment</th>\n",
              "      <th>sentiment</th>\n",
              "    </tr>\n",
              "  </thead>\n",
              "  <tbody>\n",
              "    <tr>\n",
              "      <th>0</th>\n",
              "      <td>Wow... Loved this place.</td>\n",
              "      <td>1</td>\n",
              "    </tr>\n",
              "    <tr>\n",
              "      <th>1</th>\n",
              "      <td>Crust is not good.</td>\n",
              "      <td>0</td>\n",
              "    </tr>\n",
              "    <tr>\n",
              "      <th>2</th>\n",
              "      <td>Not tasty and the texture was just nasty.</td>\n",
              "      <td>0</td>\n",
              "    </tr>\n",
              "    <tr>\n",
              "      <th>3</th>\n",
              "      <td>Stopped by during the late May bank holiday of...</td>\n",
              "      <td>1</td>\n",
              "    </tr>\n",
              "    <tr>\n",
              "      <th>4</th>\n",
              "      <td>The selection on the menu was great and so wer...</td>\n",
              "      <td>1</td>\n",
              "    </tr>\n",
              "    <tr>\n",
              "      <th>5</th>\n",
              "      <td>Now I am getting angry and I want my damn pho.</td>\n",
              "      <td>0</td>\n",
              "    </tr>\n",
              "    <tr>\n",
              "      <th>6</th>\n",
              "      <td>Honeslty it didn't taste THAT fresh.)</td>\n",
              "      <td>0</td>\n",
              "    </tr>\n",
              "    <tr>\n",
              "      <th>7</th>\n",
              "      <td>The potatoes were like rubber and you could te...</td>\n",
              "      <td>0</td>\n",
              "    </tr>\n",
              "    <tr>\n",
              "      <th>8</th>\n",
              "      <td>The fries were great too.</td>\n",
              "      <td>1</td>\n",
              "    </tr>\n",
              "    <tr>\n",
              "      <th>9</th>\n",
              "      <td>A great touch.</td>\n",
              "      <td>1</td>\n",
              "    </tr>\n",
              "  </tbody>\n",
              "</table>\n",
              "</div>"
            ],
            "text/plain": [
              "                                             comment  sentiment\n",
              "0                           Wow... Loved this place.          1\n",
              "1                                 Crust is not good.          0\n",
              "2          Not tasty and the texture was just nasty.          0\n",
              "3  Stopped by during the late May bank holiday of...          1\n",
              "4  The selection on the menu was great and so wer...          1\n",
              "5     Now I am getting angry and I want my damn pho.          0\n",
              "6              Honeslty it didn't taste THAT fresh.)          0\n",
              "7  The potatoes were like rubber and you could te...          0\n",
              "8                          The fries were great too.          1\n",
              "9                                     A great touch.          1"
            ]
          },
          "metadata": {},
          "execution_count": 3
        }
      ]
    },
    {
      "cell_type": "code",
      "metadata": {
        "id": "ZGcwMGR-R3tR",
        "colab": {
          "base_uri": "https://localhost:8080/"
        },
        "outputId": "3ff9b282-9661-48a6-985f-e9bd151d95a8"
      },
      "source": [
        "# Download GloVe embeddings\n",
        "\n",
        "!wget http://nlp.stanford.edu/data/glove.6B.zip\n",
        "!echo \"Unzipping glove.6B.zip\"\n",
        "!unzip -q glove.6B.zip\n",
        "!echo \"All done!\""
      ],
      "execution_count": null,
      "outputs": [
        {
          "output_type": "stream",
          "name": "stdout",
          "text": [
            "--2021-11-01 14:54:42--  http://nlp.stanford.edu/data/glove.6B.zip\n",
            "Resolving nlp.stanford.edu (nlp.stanford.edu)... 171.64.67.140\n",
            "Connecting to nlp.stanford.edu (nlp.stanford.edu)|171.64.67.140|:80... connected.\n",
            "HTTP request sent, awaiting response... 302 Found\n",
            "Location: https://nlp.stanford.edu/data/glove.6B.zip [following]\n",
            "--2021-11-01 14:54:42--  https://nlp.stanford.edu/data/glove.6B.zip\n",
            "Connecting to nlp.stanford.edu (nlp.stanford.edu)|171.64.67.140|:443... connected.\n",
            "HTTP request sent, awaiting response... 301 Moved Permanently\n",
            "Location: http://downloads.cs.stanford.edu/nlp/data/glove.6B.zip [following]\n",
            "--2021-11-01 14:54:42--  http://downloads.cs.stanford.edu/nlp/data/glove.6B.zip\n",
            "Resolving downloads.cs.stanford.edu (downloads.cs.stanford.edu)... 171.64.64.22\n",
            "Connecting to downloads.cs.stanford.edu (downloads.cs.stanford.edu)|171.64.64.22|:80... connected.\n",
            "HTTP request sent, awaiting response... 200 OK\n",
            "Length: 862182613 (822M) [application/zip]\n",
            "Saving to: ‘glove.6B.zip’\n",
            "\n",
            "glove.6B.zip        100%[===================>] 822.24M  5.08MB/s    in 2m 40s  \n",
            "\n",
            "2021-11-01 14:57:23 (5.13 MB/s) - ‘glove.6B.zip’ saved [862182613/862182613]\n",
            "\n",
            "Unzipping glove.6B.zip\n",
            "All done!\n"
          ]
        }
      ]
    },
    {
      "cell_type": "code",
      "metadata": {
        "id": "zVeUb4AsMFLG"
      },
      "source": [
        "MAX_NB_WORDS = 20000\n",
        "MAX_SEQUENCE_LENGTH = 1000\n",
        "EMBEDDING_DIM = 50\n",
        "\n",
        "num_classes = 2\n",
        "\n",
        "def load_glove_vectors():\n",
        "    print('Loading glove vectors...')\n",
        "    glove_map = {}\n",
        "    with open('glove.6B.%dd.txt' % EMBEDDING_DIM, encoding='utf8') as file:\n",
        "        for line in file:\n",
        "            values = line.split()\n",
        "            word = values[0]\n",
        "            glove_map[word] = np.asarray(values[1:], dtype='float32')\n",
        "    return glove_map\n",
        "\n",
        "def create_embedding_matrix(word_index, num_words):\n",
        "    glove_map = load_glove_vectors()\n",
        "    embedding_matrix = np.zeros((num_words, EMBEDDING_DIM))\n",
        "    for word, i in word_index.items():\n",
        "        if i > num_words:\n",
        "            continue\n",
        "        vector = glove_map.get(word)\n",
        "        if vector is not None:\n",
        "            embedding_matrix[i] = vector\n",
        "    return embedding_matrix"
      ],
      "execution_count": null,
      "outputs": []
    },
    {
      "cell_type": "code",
      "metadata": {
        "id": "-7DV0_1XMFLJ"
      },
      "source": [
        "comments = trainingData.comment.astype(str).tolist()\n",
        "sentiments = trainingData.sentiment.tolist()\n",
        "labels = np.asarray(sentiments)\n",
        "\n",
        "tokenizer = Tokenizer(num_words=MAX_NB_WORDS)\n",
        "tokenizer.fit_on_texts(comments)\n",
        "sequences = tokenizer.texts_to_sequences(comments)\n",
        "padded_sequences = pad_sequences(sequences, maxlen=MAX_SEQUENCE_LENGTH)\n",
        "\n",
        "word_index = tokenizer.word_index\n",
        "\n",
        "num_words = min(MAX_NB_WORDS, len(word_index)) + 1\n",
        "\n",
        "x_train, x_test, y_train, y_test = train_test_split(padded_sequences, labels, test_size=0.2)"
      ],
      "execution_count": null,
      "outputs": []
    },
    {
      "cell_type": "code",
      "metadata": {
        "id": "EZlja3d1MFLL",
        "colab": {
          "base_uri": "https://localhost:8080/"
        },
        "outputId": "85690fa9-15c9-407a-8701-7c6f6ddf5c95"
      },
      "source": [
        "embedding_matrix = create_embedding_matrix(word_index, num_words)"
      ],
      "execution_count": null,
      "outputs": [
        {
          "output_type": "stream",
          "name": "stdout",
          "text": [
            "Loading glove vectors...\n"
          ]
        }
      ]
    },
    {
      "cell_type": "code",
      "metadata": {
        "id": "b0IUw1VDMFLO",
        "colab": {
          "base_uri": "https://localhost:8080/"
        },
        "outputId": "fed1ae08-2e66-4bfd-de26-c24f5c089f32"
      },
      "source": [
        "dropout = 0.4\n",
        "\n",
        "model = Sequential()\n",
        "model.add(Embedding(num_words, EMBEDDING_DIM, weights=[embedding_matrix],\n",
        "                    input_length=MAX_SEQUENCE_LENGTH, trainable=False))\n",
        "model.add(Dropout(dropout))\n",
        "\n",
        "model.add(Conv1D(128, 5, activation='relu', padding='same', strides=2))\n",
        "model.add(GlobalMaxPooling1D())\n",
        "model.add(Dropout(dropout))\n",
        "\n",
        "model.add(Dense(128, activation='relu'))\n",
        "model.add(Dropout(dropout))\n",
        "model.add(Dense(num_classes, activation='softmax'))\n",
        "model.summary()"
      ],
      "execution_count": null,
      "outputs": [
        {
          "output_type": "stream",
          "name": "stdout",
          "text": [
            "Model: \"sequential\"\n",
            "_________________________________________________________________\n",
            "Layer (type)                 Output Shape              Param #   \n",
            "=================================================================\n",
            "embedding (Embedding)        (None, 1000, 50)          263600    \n",
            "_________________________________________________________________\n",
            "dropout (Dropout)            (None, 1000, 50)          0         \n",
            "_________________________________________________________________\n",
            "conv1d (Conv1D)              (None, 500, 128)          32128     \n",
            "_________________________________________________________________\n",
            "global_max_pooling1d (Global (None, 128)               0         \n",
            "_________________________________________________________________\n",
            "dropout_1 (Dropout)          (None, 128)               0         \n",
            "_________________________________________________________________\n",
            "dense (Dense)                (None, 128)               16512     \n",
            "_________________________________________________________________\n",
            "dropout_2 (Dropout)          (None, 128)               0         \n",
            "_________________________________________________________________\n",
            "dense_1 (Dense)              (None, 2)                 258       \n",
            "=================================================================\n",
            "Total params: 312,498\n",
            "Trainable params: 48,898\n",
            "Non-trainable params: 263,600\n",
            "_________________________________________________________________\n"
          ]
        }
      ]
    },
    {
      "cell_type": "code",
      "metadata": {
        "id": "BUMaXNjMMFLQ",
        "colab": {
          "base_uri": "https://localhost:8080/",
          "height": 1000
        },
        "outputId": "0b798e84-5d0b-424f-a328-ae56a4cc8465"
      },
      "source": [
        "model.compile(loss='sparse_categorical_crossentropy', optimizer=Adam(), metrics=['acc'])\n",
        "\n",
        "# Train model for a given number of epochs\n",
        "history = model.fit(x_train, y_train, batch_size=128, epochs=40, verbose=1, validation_data=(x_test, y_test))\n",
        "\n",
        "# Evaluate model against test data\n",
        "score = model.evaluate(x_test, y_test, verbose=0)\n",
        "print('Test loss:', score[0])\n",
        "print('Test accuracy:', score[1])\n",
        "\n",
        "# summarize history for accuracy\n",
        "plt.plot(history.history['acc'])\n",
        "plt.plot(history.history['val_acc'])\n",
        "plt.title('Model accuracy')\n",
        "plt.ylabel('Accuracy')\n",
        "plt.xlabel('Epoch')\n",
        "plt.legend(['Train', 'Test'], loc='upper left')\n",
        "plt.show()"
      ],
      "execution_count": null,
      "outputs": [
        {
          "output_type": "stream",
          "name": "stdout",
          "text": [
            "Epoch 1/40\n",
            "18/18 [==============================] - 6s 275ms/step - loss: 0.8449 - acc: 0.5141 - val_loss: 0.6712 - val_acc: 0.5909\n",
            "Epoch 2/40\n",
            "18/18 [==============================] - 5s 269ms/step - loss: 0.7116 - acc: 0.5614 - val_loss: 0.6639 - val_acc: 0.6218\n",
            "Epoch 3/40\n",
            "18/18 [==============================] - 5s 267ms/step - loss: 0.6831 - acc: 0.5837 - val_loss: 0.6587 - val_acc: 0.5964\n",
            "Epoch 4/40\n",
            "18/18 [==============================] - 5s 267ms/step - loss: 0.6761 - acc: 0.5942 - val_loss: 0.6414 - val_acc: 0.6764\n",
            "Epoch 5/40\n",
            "18/18 [==============================] - 5s 268ms/step - loss: 0.6535 - acc: 0.6178 - val_loss: 0.6255 - val_acc: 0.6855\n",
            "Epoch 6/40\n",
            "18/18 [==============================] - 5s 266ms/step - loss: 0.6251 - acc: 0.6465 - val_loss: 0.6130 - val_acc: 0.6618\n",
            "Epoch 7/40\n",
            "18/18 [==============================] - 5s 271ms/step - loss: 0.6115 - acc: 0.6588 - val_loss: 0.5925 - val_acc: 0.7055\n",
            "Epoch 8/40\n",
            "18/18 [==============================] - 5s 267ms/step - loss: 0.5894 - acc: 0.6929 - val_loss: 0.5743 - val_acc: 0.7127\n",
            "Epoch 9/40\n",
            "18/18 [==============================] - 5s 270ms/step - loss: 0.5805 - acc: 0.6947 - val_loss: 0.5597 - val_acc: 0.7073\n",
            "Epoch 10/40\n",
            "18/18 [==============================] - 5s 271ms/step - loss: 0.5625 - acc: 0.7138 - val_loss: 0.5484 - val_acc: 0.7255\n",
            "Epoch 11/40\n",
            "18/18 [==============================] - 5s 271ms/step - loss: 0.5395 - acc: 0.7211 - val_loss: 0.5335 - val_acc: 0.7345\n",
            "Epoch 12/40\n",
            "18/18 [==============================] - 5s 276ms/step - loss: 0.5480 - acc: 0.7211 - val_loss: 0.5335 - val_acc: 0.7327\n",
            "Epoch 13/40\n",
            "18/18 [==============================] - 5s 274ms/step - loss: 0.5465 - acc: 0.7220 - val_loss: 0.5342 - val_acc: 0.7273\n",
            "Epoch 14/40\n",
            "18/18 [==============================] - 5s 268ms/step - loss: 0.5394 - acc: 0.7243 - val_loss: 0.5211 - val_acc: 0.7455\n",
            "Epoch 15/40\n",
            "18/18 [==============================] - 5s 272ms/step - loss: 0.5307 - acc: 0.7302 - val_loss: 0.5233 - val_acc: 0.7436\n",
            "Epoch 16/40\n",
            "18/18 [==============================] - 5s 272ms/step - loss: 0.5032 - acc: 0.7457 - val_loss: 0.5110 - val_acc: 0.7509\n",
            "Epoch 17/40\n",
            "18/18 [==============================] - 5s 275ms/step - loss: 0.5291 - acc: 0.7298 - val_loss: 0.5053 - val_acc: 0.7636\n",
            "Epoch 18/40\n",
            "18/18 [==============================] - 5s 272ms/step - loss: 0.5049 - acc: 0.7466 - val_loss: 0.5013 - val_acc: 0.7600\n",
            "Epoch 19/40\n",
            "18/18 [==============================] - 5s 273ms/step - loss: 0.5030 - acc: 0.7502 - val_loss: 0.4906 - val_acc: 0.7691\n",
            "Epoch 20/40\n",
            "18/18 [==============================] - 5s 270ms/step - loss: 0.4877 - acc: 0.7662 - val_loss: 0.4989 - val_acc: 0.7527\n",
            "Epoch 21/40\n",
            "18/18 [==============================] - 5s 275ms/step - loss: 0.4866 - acc: 0.7698 - val_loss: 0.4927 - val_acc: 0.7618\n",
            "Epoch 22/40\n",
            "18/18 [==============================] - 5s 272ms/step - loss: 0.4833 - acc: 0.7643 - val_loss: 0.4776 - val_acc: 0.7745\n",
            "Epoch 23/40\n",
            "18/18 [==============================] - 5s 273ms/step - loss: 0.4839 - acc: 0.7616 - val_loss: 0.4866 - val_acc: 0.7709\n",
            "Epoch 24/40\n",
            "18/18 [==============================] - 5s 271ms/step - loss: 0.4736 - acc: 0.7689 - val_loss: 0.4827 - val_acc: 0.7745\n",
            "Epoch 25/40\n",
            "18/18 [==============================] - 5s 272ms/step - loss: 0.4750 - acc: 0.7812 - val_loss: 0.4940 - val_acc: 0.7618\n",
            "Epoch 26/40\n",
            "18/18 [==============================] - 5s 267ms/step - loss: 0.4699 - acc: 0.7702 - val_loss: 0.4797 - val_acc: 0.7709\n",
            "Epoch 27/40\n",
            "18/18 [==============================] - 5s 270ms/step - loss: 0.4709 - acc: 0.7743 - val_loss: 0.4829 - val_acc: 0.7582\n",
            "Epoch 28/40\n",
            "18/18 [==============================] - 5s 273ms/step - loss: 0.4640 - acc: 0.7816 - val_loss: 0.4720 - val_acc: 0.7709\n",
            "Epoch 29/40\n",
            "18/18 [==============================] - 5s 274ms/step - loss: 0.4438 - acc: 0.7898 - val_loss: 0.4690 - val_acc: 0.7782\n",
            "Epoch 30/40\n",
            "18/18 [==============================] - 5s 276ms/step - loss: 0.4387 - acc: 0.7843 - val_loss: 0.4682 - val_acc: 0.7691\n",
            "Epoch 31/40\n",
            "18/18 [==============================] - 5s 272ms/step - loss: 0.4635 - acc: 0.7821 - val_loss: 0.4664 - val_acc: 0.7727\n",
            "Epoch 32/40\n",
            "18/18 [==============================] - 5s 269ms/step - loss: 0.4463 - acc: 0.7871 - val_loss: 0.4713 - val_acc: 0.7764\n",
            "Epoch 33/40\n",
            "18/18 [==============================] - 5s 271ms/step - loss: 0.4508 - acc: 0.7862 - val_loss: 0.4769 - val_acc: 0.7564\n",
            "Epoch 34/40\n",
            "18/18 [==============================] - 5s 275ms/step - loss: 0.4273 - acc: 0.8025 - val_loss: 0.4762 - val_acc: 0.7673\n",
            "Epoch 35/40\n",
            "18/18 [==============================] - 5s 267ms/step - loss: 0.4356 - acc: 0.7948 - val_loss: 0.4688 - val_acc: 0.7727\n",
            "Epoch 36/40\n",
            "18/18 [==============================] - 5s 267ms/step - loss: 0.4388 - acc: 0.7907 - val_loss: 0.4571 - val_acc: 0.7836\n",
            "Epoch 37/40\n",
            "18/18 [==============================] - 5s 264ms/step - loss: 0.4248 - acc: 0.8012 - val_loss: 0.4592 - val_acc: 0.7927\n",
            "Epoch 38/40\n",
            "18/18 [==============================] - 5s 266ms/step - loss: 0.4166 - acc: 0.8016 - val_loss: 0.4539 - val_acc: 0.7927\n",
            "Epoch 39/40\n",
            "18/18 [==============================] - 5s 262ms/step - loss: 0.4288 - acc: 0.7994 - val_loss: 0.4463 - val_acc: 0.7836\n",
            "Epoch 40/40\n",
            "18/18 [==============================] - 5s 265ms/step - loss: 0.4140 - acc: 0.8076 - val_loss: 0.4572 - val_acc: 0.7782\n",
            "Test loss: 0.45718395709991455\n",
            "Test accuracy: 0.778181791305542\n"
          ]
        },
        {
          "output_type": "display_data",
          "data": {
            "image/png": "[encoded data removed]",
            "text/plain": [
              "<Figure size 432x288 with 1 Axes>"
            ]
          },
          "metadata": {
            "needs_background": "light"
          }
        }
      ]
    },
    {
      "cell_type": "code",
      "metadata": {
        "id": "_i423WNQMFLS"
      },
      "source": [
        "predictions = model.predict(padded_sequences)\n",
        "most_likely = predictions.argmax(1)"
      ],
      "execution_count": null,
      "outputs": []
    },
    {
      "cell_type": "code",
      "metadata": {
        "id": "2Ve2a-roMFLV",
        "colab": {
          "base_uri": "https://localhost:8080/"
        },
        "outputId": "5211ebd9-fc5e-4499-c3ea-ec727d78683a"
      },
      "source": [
        "index = random.randrange(len(predictions))\n",
        "print(comments[index])\n",
        "print('Prediction: %d, label: %d' % (most_likely[index], sentiments[index]))"
      ],
      "execution_count": null,
      "outputs": [
        {
          "output_type": "stream",
          "name": "stdout",
          "text": [
            "That was done in the second movie.  \n",
            "Prediction: 0, label: 0\n"
          ]
        }
      ]
    },
    {
      "cell_type": "code",
      "metadata": {
        "id": "T7aMVD5lMFLX",
        "colab": {
          "base_uri": "https://localhost:8080/",
          "height": 315
        },
        "outputId": "347c6497-f53f-4b88-dc32-0da47a579ff3"
      },
      "source": [
        "for i in range(10000):\n",
        "    index = random.randrange(len(predictions))\n",
        "    if most_likely[index] != sentiments[index]:\n",
        "        break\n",
        "\n",
        "print(comments[index])\n",
        "print('Prediction: %d, label: %d' % (most_likely[index], sentiments[index]))\n",
        "\n",
        "plt.bar(range(num_classes), predictions[index], tick_label=range(num_classes))\n",
        "plt.title('Prediction values')\n",
        "plt.show()"
      ],
      "execution_count": null,
      "outputs": [
        {
          "output_type": "stream",
          "name": "stdout",
          "text": [
            "I still maintain that monkeys shouldn't make headphones, we just obviously don't share enough DNA to copy the design over to humans.\n",
            "Prediction: 1, label: 0\n"
          ]
        },
        {
          "output_type": "display_data",
          "data": {
            "image/png": "[encoded data removed]",
            "text/plain": [
              "<Figure size 432x288 with 1 Axes>"
            ]
          },
          "metadata": {
            "needs_background": "light"
          }
        }
      ]
    },
    {
      "cell_type": "code",
      "metadata": {
        "id": "hMplVIcbMFLZ"
      },
      "source": [
        ""
      ],
      "execution_count": null,
      "outputs": []
    }
  ]
}